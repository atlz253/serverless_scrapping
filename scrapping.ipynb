{
 "cells": [
  {
   "cell_type": "markdown",
   "metadata": {
    "id": "Xh3mQf2Gar9i"
   },
   "source": [
    "# Импорты"
   ]
  },
  {
   "cell_type": "code",
   "execution_count": 73,
   "metadata": {
    "id": "VTLt3TniarIQ"
   },
   "outputs": [],
   "source": [
    "from json import loads, dump\n",
    "from bs4 import BeautifulSoup\n",
    "from fake_useragent import  UserAgent\n",
    "from requests import get, post, RequestException"
   ]
  },
  {
   "cell_type": "markdown",
   "metadata": {
    "id": "3IDGWEdbu3Ol"
   },
   "source": [
    "# Константы"
   ]
  },
  {
   "cell_type": "code",
   "execution_count": 74,
   "metadata": {
    "id": "UbVLU5FHu9fA"
   },
   "outputs": [],
   "source": [
    "RESULT = []"
   ]
  },
  {
   "cell_type": "markdown",
   "metadata": {
    "id": "5BNLoXwlztly"
   },
   "source": [
    "# Получение данных с хабра"
   ]
  },
  {
   "cell_type": "code",
   "execution_count": 75,
   "metadata": {
    "colab": {
     "base_uri": "https://localhost:8080/"
    },
    "id": "P0X9IZdhumBV",
    "outputId": "97341e93-27d8-403a-9612-2bb9c1c91eac"
   },
   "outputs": [],
   "source": [
    "PAGES = 5\n",
    "URL = \"https://habr.com/kek/v2/articles/?query=serverless&order=relevance&fl=ru&hl=ru&perPage=20\"\n",
    "\n",
    "for i in range(1, PAGES + 1):\n",
    "  response = get(f\"{URL}&page={i}\")\n",
    "  text = response.content.decode('utf-8')\n",
    "\n",
    "  if response.status_code != 200:\n",
    "    print(f\"Запрос завершился неудачей\\n{text}\")\n",
    "    break\n",
    "\n",
    "  content = loads(text)\n",
    "  publications = content[\"publicationRefs\"]\n",
    "\n",
    "  for article in publications:\n",
    "    RESULT.append({\n",
    "      \"title\": publications[article][\"titleHtml\"],\n",
    "      \"author\": publications[article][\"author\"][\"fullname\"],\n",
    "      \"url\": \"https://habr.com/ru/articles/\" + article + \"/\"\n",
    "    })"
   ]
  },
  {
   "cell_type": "markdown",
   "metadata": {
    "id": "TKz1A385aeVs"
   },
   "source": [
    "# Получение данных с Elibrary\n",
    "Сайт не всегда пропускает запросы, поэтому получение работает через раз"
   ]
  },
  {
   "cell_type": "code",
   "execution_count": null,
   "metadata": {
    "colab": {
     "base_uri": "https://localhost:8080/",
     "height": 731
    },
    "id": "aJm18X2CacEM",
    "outputId": "97b4f28d-298b-4cad-d64a-e9cdab61db0e"
   },
   "outputs": [
    {
     "name": "stdout",
     "output_type": "stream",
     "text": [
      "<class 'requests.exceptions.ConnectionError'>\n",
      "('Connection aborted.', ConnectionResetError(10054, 'Удаленный хост принудительно разорвал существующее подключение', None, 10054, None))\n"
     ]
    }
   ],
   "source": [
    "URL = \"https://www.elibrary.ru\"\n",
    "SEARCH_URL = f\"{URL}/query_results.asp\"\n",
    "data = {\n",
    "    \"where_fulltext\": \"on\",\n",
    "    \"where_name\": \"on\",\n",
    "    \"where_abstract\": \"on\",\n",
    "    \"where_keywords\": \"on\",\n",
    "    \"where_affiliation\": \"\",\n",
    "    \"where_references\": \"\",\n",
    "    \"type_article\": \"on\",\n",
    "    \"type_disser\": \"on\",\n",
    "    \"type_book\": \"on\",\n",
    "    \"type_report\": \"on\",\n",
    "    \"type_conf\": \"on\",\n",
    "    \"type_patent\": \"on\",\n",
    "    \"type_preprint\": \"on\",\n",
    "    \"type_grant\": \"on\",\n",
    "    \"type_dataset\": \"on\",\n",
    "    \"search_freetext\": \"\",\n",
    "    \"search_morph\": \"on\",\n",
    "    \"search_fulltext\": \"\",\n",
    "    \"search_open\": \"\",\n",
    "    \"search_results\": \"\",\n",
    "    \"titles_all\": \"\",\n",
    "    \"authors_all\": \"\",\n",
    "    \"rubrics_all\": \"\",\n",
    "    \"queryboxid\": \"\",\n",
    "    \"itemboxid\": \"\",\n",
    "    \"begin_year\": \"\",\n",
    "    \"end_year\": \"\",\n",
    "    \"issues\": \"all\",\n",
    "    \"orderby\": \"rank\",\n",
    "    \"order\": \"rev\",\n",
    "    \"changed\": \"1\",\n",
    "    \"ftext\": \"serverless\"\n",
    "}\n",
    "headers = {\n",
    "    \"accept\": \"text/html,application/xhtml+xml,application/xml;q=0.9,image/avif,image/webp,image/apng,*/*;q=0.8,application/signed-exchange;v=b3;q=0.7\",\n",
    "    \"accept-encoding\": \"gzip, deflate, br, zstd\",\n",
    "    \"accept-language\": \"ru,en;q=0.9,en-GB;q=0.8,en-US;q=0.7\",\n",
    "    \"cache-control\": \"no-cache\",\n",
    "    \"content-Type\": \"application/x-www-form-urlencoded\",\n",
    "    \"pragma\": \"no-cache\",\n",
    "    \"priority\": \"u=0, i\",\n",
    "    \"user-agent\": str(UserAgent.chrome),\n",
    "}\n",
    "\n",
    "try:\n",
    "    response = post(SEARCH_URL, data = data, headers = headers)\n",
    "    text = response.content.decode('utf-8')\n",
    "    if response.status_code != 200:\n",
    "        print(f\"Запрос завершился неудачей\\n{text}\")\n",
    "except RequestException as error:\n",
    "    text = \"\"\n",
    "    print(error)\n",
    "\n",
    "soup = BeautifulSoup(text, \"html.parser\")\n",
    "articles = soup.select(\"#restab tr[id]>td[align='left']>span\")\n",
    "\n",
    "for article in articles:\n",
    "    RESULT.append({\n",
    "      \"title\": article.select_one(\"a\").get_text(),\n",
    "      \"author\": article.select_one(\"font:nth-child(3)\").get_text(),\n",
    "      \"url\": URL + article.select_one(\"a\").attrs[\"href\"],\n",
    "    })"
   ]
  },
  {
   "cell_type": "markdown",
   "metadata": {
    "id": "vpLL8f-q3T6e"
   },
   "source": [
    "# Запись результата на диск"
   ]
  },
  {
   "cell_type": "code",
   "execution_count": 77,
   "metadata": {
    "id": "sJltFohc3X2v"
   },
   "outputs": [],
   "source": [
    "with open(\"result.json\", \"w\", encoding=\"utf-8\") as f:\n",
    "  dump(RESULT, f, ensure_ascii=False)"
   ]
  }
 ],
 "metadata": {
  "colab": {
   "provenance": []
  },
  "kernelspec": {
   "display_name": "Python 3",
   "name": "python3"
  },
  "language_info": {
   "codemirror_mode": {
    "name": "ipython",
    "version": 3
   },
   "file_extension": ".py",
   "mimetype": "text/x-python",
   "name": "python",
   "nbconvert_exporter": "python",
   "pygments_lexer": "ipython3",
   "version": "3.12.6"
  }
 },
 "nbformat": 4,
 "nbformat_minor": 0
}
